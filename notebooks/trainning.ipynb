{
 "cells": [
  {
   "cell_type": "code",
   "execution_count": 1,
   "metadata": {},
   "outputs": [],
   "source": [
    "import torch\n",
    "import torch.nn as nn\n",
    "import torch.optim as optim\n",
    "from torch.utils.data import DataLoader\n",
    "from torchvision import datasets, transforms\n",
    "import mlflow\n",
    "import mlflow.pytorch\n",
    "import itertools\n",
    "import torch.nn.functional as F\n",
    "import os"
   ]
  },
  {
   "cell_type": "code",
   "execution_count": 2,
   "metadata": {},
   "outputs": [
    {
     "name": "stdout",
     "output_type": "stream",
     "text": [
      "Using device: cuda\n"
     ]
    }
   ],
   "source": [
    "device = torch.device(\"cuda\" if torch.cuda.is_available() else \"cpu\")\n",
    "print(f\"Using device: {device}\")"
   ]
  },
  {
   "cell_type": "code",
   "execution_count": 3,
   "metadata": {},
   "outputs": [],
   "source": [
    "transform = transforms.Compose(\n",
    "    [transforms.ToTensor(), transforms.Normalize((0.5,), (0.5,))]\n",
    ")\n",
    "\n",
    "train_ds = datasets.MNIST(\n",
    "    root=\"../data\", train=True, download=True, transform=transform\n",
    ")\n",
    "test_ds = datasets.MNIST(\n",
    "    root=\"../data\", train=False, download=True, transform=transform\n",
    ")\n",
    "\n",
    "train_loader = DataLoader(train_ds, batch_size=64, shuffle=True)\n",
    "test_loader = DataLoader(test_ds, batch_size=64)"
   ]
  },
  {
   "cell_type": "code",
   "execution_count": 4,
   "metadata": {},
   "outputs": [],
   "source": [
    "class ModelA(nn.Module):\n",
    "    def __init__(self):\n",
    "        super().__init__()\n",
    "        self.conv = nn.Sequential(nn.Conv2d(1, 16, 3, 1), nn.ReLU(), nn.MaxPool2d(2))\n",
    "        self.fc = nn.Linear(16 * 13 * 13, 10)\n",
    "\n",
    "    def forward(self, x):\n",
    "        x = self.conv(x)\n",
    "        x = x.view(x.size(0), -1)\n",
    "        return self.fc(x)"
   ]
  },
  {
   "cell_type": "code",
   "execution_count": 5,
   "metadata": {},
   "outputs": [],
   "source": [
    "class ModelB(nn.Module):\n",
    "    def __init__(self):\n",
    "        super().__init__()\n",
    "        self.conv = nn.Sequential(\n",
    "            nn.Conv2d(1, 32, 3, 1),\n",
    "            nn.ReLU(),\n",
    "            nn.Conv2d(32, 64, 3, 1),\n",
    "            nn.ReLU(),\n",
    "            nn.MaxPool2d(2),\n",
    "        )\n",
    "        self.fc = nn.Linear(64 * 12 * 12, 10)\n",
    "\n",
    "    def forward(self, x):\n",
    "        x = self.conv(x)\n",
    "        x = x.view(x.size(0), -1)\n",
    "        return self.fc(x)"
   ]
  },
  {
   "cell_type": "code",
   "execution_count": 6,
   "metadata": {},
   "outputs": [],
   "source": [
    "class ModelC(nn.Module):\n",
    "    def __init__(self):\n",
    "        super().__init__()\n",
    "        self.conv1 = nn.Conv2d(1, 32, 3, 1)\n",
    "        self.conv2 = nn.Conv2d(32, 64, 3, 1)\n",
    "        self.pool = nn.MaxPool2d(2, 2)\n",
    "        self.dropout1 = nn.Dropout(0.25)\n",
    "        self.fc1 = nn.Linear(64 * 5 * 5, 128)\n",
    "        self.fc2 = nn.Linear(128, 10)\n",
    "\n",
    "    def forward(self, x):\n",
    "        x = self.pool(F.relu(self.conv1(x)))\n",
    "        x = self.pool(F.relu(self.conv2(x)))\n",
    "        x = torch.flatten(x, 1)\n",
    "        x = self.dropout1(x)\n",
    "        x = F.relu(self.fc1(x))\n",
    "        x = self.fc2(x)\n",
    "        return x"
   ]
  },
  {
   "cell_type": "code",
   "execution_count": 7,
   "metadata": {},
   "outputs": [],
   "source": [
    "def train_model(model, train_loader, epochs, lr):\n",
    "    model = model.to(device)\n",
    "    criterion = nn.CrossEntropyLoss()\n",
    "    optimizer = optim.Adam(model.parameters(), lr=lr)\n",
    "\n",
    "    for epoch in range(epochs):\n",
    "        model.train()\n",
    "        total_loss = 0\n",
    "        correct = 0\n",
    "        total = 0\n",
    "\n",
    "        for data, target in train_loader:\n",
    "            data, target = data.to(device), target.to(device)\n",
    "            optimizer.zero_grad()\n",
    "            outputs = model(data)\n",
    "            loss = criterion(outputs, target)\n",
    "            loss.backward()\n",
    "            optimizer.step()\n",
    "\n",
    "            total_loss += loss.item()\n",
    "            _, predicted = torch.max(outputs, 1)\n",
    "            correct += (predicted == target).sum().item()\n",
    "            total += target.size(0)\n",
    "\n",
    "        avg_loss = total_loss / len(train_loader)\n",
    "        acc = correct / total\n",
    "        print(f\"Epoch {epoch+1}: Loss = {avg_loss:.4f}, Accuracy = {acc:.4f}\")\n",
    "\n",
    "    return model"
   ]
  },
  {
   "cell_type": "code",
   "execution_count": 8,
   "metadata": {},
   "outputs": [],
   "source": [
    "def evaluate_model(model, test_loader, criterion):\n",
    "    model.eval()\n",
    "    test_loss = 0\n",
    "    correct = 0\n",
    "    total = 0\n",
    "\n",
    "    with torch.no_grad():\n",
    "        for data, target in test_loader:\n",
    "            data, target = data.to(device), target.to(device)\n",
    "            outputs = model(data)\n",
    "            loss = criterion(outputs, target)\n",
    "            test_loss += loss.item()\n",
    "            _, predicted = torch.max(outputs, 1)\n",
    "            correct += (predicted == target).sum().item()\n",
    "            total += target.size(0)\n",
    "\n",
    "    avg_loss = test_loss / len(test_loader)\n",
    "    acc = correct / total\n",
    "    print(f\"Test Loss: {avg_loss:.4f}, Test Accuracy: {acc:.4f}\")\n",
    "    return avg_loss, acc"
   ]
  },
  {
   "cell_type": "code",
   "execution_count": 9,
   "metadata": {},
   "outputs": [
    {
     "name": "stdout",
     "output_type": "stream",
     "text": [
      "\n",
      "--- Training ModelA | lr: 0.01, epochs: 5 ---\n",
      "Epoch 1: Loss = 0.1561, Accuracy = 0.9548\n",
      "Epoch 2: Loss = 0.0719, Accuracy = 0.9778\n",
      "Epoch 3: Loss = 0.0557, Accuracy = 0.9829\n",
      "Epoch 4: Loss = 0.0479, Accuracy = 0.9849\n",
      "Epoch 5: Loss = 0.0409, Accuracy = 0.9873\n"
     ]
    },
    {
     "name": "stderr",
     "output_type": "stream",
     "text": [
      "2025/06/30 00:40:32 WARNING mlflow.models.model: `artifact_path` is deprecated. Please use `name` instead.\n"
     ]
    },
    {
     "name": "stdout",
     "output_type": "stream",
     "text": [
      "Test Loss: 0.0720, Test Accuracy: 0.9788\n",
      "Model saved to ModelA.pth\n"
     ]
    },
    {
     "name": "stderr",
     "output_type": "stream",
     "text": [
      "2025/06/30 00:40:46 WARNING mlflow.models.model: Model logged without a signature and input example. Please set `input_example` parameter when logging the model to auto infer the model signature.\n"
     ]
    },
    {
     "name": "stdout",
     "output_type": "stream",
     "text": [
      "\n",
      "--- Training ModelA | lr: 0.01, epochs: 10 ---\n",
      "Epoch 1: Loss = 0.1664, Accuracy = 0.9511\n",
      "Epoch 2: Loss = 0.0695, Accuracy = 0.9791\n",
      "Epoch 3: Loss = 0.0557, Accuracy = 0.9832\n",
      "Epoch 4: Loss = 0.0466, Accuracy = 0.9855\n",
      "Epoch 5: Loss = 0.0410, Accuracy = 0.9865\n",
      "Epoch 6: Loss = 0.0367, Accuracy = 0.9883\n",
      "Epoch 7: Loss = 0.0318, Accuracy = 0.9898\n",
      "Epoch 8: Loss = 0.0297, Accuracy = 0.9908\n",
      "Epoch 9: Loss = 0.0285, Accuracy = 0.9910\n",
      "Epoch 10: Loss = 0.0247, Accuracy = 0.9924\n"
     ]
    },
    {
     "name": "stderr",
     "output_type": "stream",
     "text": [
      "2025/06/30 00:43:07 WARNING mlflow.models.model: `artifact_path` is deprecated. Please use `name` instead.\n"
     ]
    },
    {
     "name": "stdout",
     "output_type": "stream",
     "text": [
      "Test Loss: 0.1387, Test Accuracy: 0.9763\n",
      "Model saved to ModelA.pth\n"
     ]
    },
    {
     "name": "stderr",
     "output_type": "stream",
     "text": [
      "2025/06/30 00:43:14 WARNING mlflow.models.model: Model logged without a signature and input example. Please set `input_example` parameter when logging the model to auto infer the model signature.\n"
     ]
    },
    {
     "name": "stdout",
     "output_type": "stream",
     "text": [
      "\n",
      "--- Training ModelA | lr: 0.001, epochs: 5 ---\n",
      "Epoch 1: Loss = 0.2347, Accuracy = 0.9356\n",
      "Epoch 2: Loss = 0.0834, Accuracy = 0.9756\n",
      "Epoch 3: Loss = 0.0628, Accuracy = 0.9813\n",
      "Epoch 4: Loss = 0.0529, Accuracy = 0.9844\n",
      "Epoch 5: Loss = 0.0459, Accuracy = 0.9862\n"
     ]
    },
    {
     "name": "stderr",
     "output_type": "stream",
     "text": [
      "2025/06/30 00:44:25 WARNING mlflow.models.model: `artifact_path` is deprecated. Please use `name` instead.\n"
     ]
    },
    {
     "name": "stdout",
     "output_type": "stream",
     "text": [
      "Test Loss: 0.0565, Test Accuracy: 0.9827\n",
      "Model saved to ModelA.pth\n"
     ]
    },
    {
     "name": "stderr",
     "output_type": "stream",
     "text": [
      "2025/06/30 00:44:30 WARNING mlflow.models.model: Model logged without a signature and input example. Please set `input_example` parameter when logging the model to auto infer the model signature.\n"
     ]
    },
    {
     "name": "stdout",
     "output_type": "stream",
     "text": [
      "\n",
      "--- Training ModelA | lr: 0.001, epochs: 10 ---\n",
      "Epoch 1: Loss = 0.2510, Accuracy = 0.9304\n",
      "Epoch 2: Loss = 0.0911, Accuracy = 0.9739\n",
      "Epoch 3: Loss = 0.0666, Accuracy = 0.9806\n",
      "Epoch 4: Loss = 0.0565, Accuracy = 0.9834\n",
      "Epoch 5: Loss = 0.0484, Accuracy = 0.9855\n",
      "Epoch 6: Loss = 0.0437, Accuracy = 0.9866\n",
      "Epoch 7: Loss = 0.0388, Accuracy = 0.9877\n",
      "Epoch 8: Loss = 0.0366, Accuracy = 0.9884\n",
      "Epoch 9: Loss = 0.0312, Accuracy = 0.9903\n",
      "Epoch 10: Loss = 0.0291, Accuracy = 0.9905\n"
     ]
    },
    {
     "name": "stderr",
     "output_type": "stream",
     "text": [
      "2025/06/30 00:46:41 WARNING mlflow.models.model: `artifact_path` is deprecated. Please use `name` instead.\n"
     ]
    },
    {
     "name": "stdout",
     "output_type": "stream",
     "text": [
      "Test Loss: 0.0597, Test Accuracy: 0.9823\n",
      "Model saved to ModelA.pth\n"
     ]
    },
    {
     "name": "stderr",
     "output_type": "stream",
     "text": [
      "2025/06/30 00:46:46 WARNING mlflow.models.model: Model logged without a signature and input example. Please set `input_example` parameter when logging the model to auto infer the model signature.\n"
     ]
    },
    {
     "name": "stdout",
     "output_type": "stream",
     "text": [
      "\n",
      "--- Training ModelB | lr: 0.01, epochs: 5 ---\n",
      "Epoch 1: Loss = 0.1570, Accuracy = 0.9565\n",
      "Epoch 2: Loss = 0.0758, Accuracy = 0.9769\n",
      "Epoch 3: Loss = 0.0671, Accuracy = 0.9799\n",
      "Epoch 4: Loss = 0.0578, Accuracy = 0.9825\n",
      "Epoch 5: Loss = 0.0563, Accuracy = 0.9823\n"
     ]
    },
    {
     "name": "stderr",
     "output_type": "stream",
     "text": [
      "2025/06/30 00:47:58 WARNING mlflow.models.model: `artifact_path` is deprecated. Please use `name` instead.\n"
     ]
    },
    {
     "name": "stdout",
     "output_type": "stream",
     "text": [
      "Test Loss: 0.0761, Test Accuracy: 0.9768\n",
      "Model saved to ModelB.pth\n"
     ]
    },
    {
     "name": "stderr",
     "output_type": "stream",
     "text": [
      "2025/06/30 00:48:04 WARNING mlflow.models.model: Model logged without a signature and input example. Please set `input_example` parameter when logging the model to auto infer the model signature.\n"
     ]
    },
    {
     "name": "stdout",
     "output_type": "stream",
     "text": [
      "\n",
      "--- Training ModelB | lr: 0.01, epochs: 10 ---\n",
      "Epoch 1: Loss = 0.1571, Accuracy = 0.9608\n",
      "Epoch 2: Loss = 0.0702, Accuracy = 0.9792\n",
      "Epoch 3: Loss = 0.0609, Accuracy = 0.9815\n",
      "Epoch 4: Loss = 0.0512, Accuracy = 0.9843\n",
      "Epoch 5: Loss = 0.0506, Accuracy = 0.9844\n",
      "Epoch 6: Loss = 0.0476, Accuracy = 0.9852\n",
      "Epoch 7: Loss = 0.0619, Accuracy = 0.9838\n",
      "Epoch 8: Loss = 0.0443, Accuracy = 0.9867\n",
      "Epoch 9: Loss = 0.0428, Accuracy = 0.9873\n",
      "Epoch 10: Loss = 0.0511, Accuracy = 0.9852\n"
     ]
    },
    {
     "name": "stderr",
     "output_type": "stream",
     "text": [
      "2025/06/30 00:50:32 WARNING mlflow.models.model: `artifact_path` is deprecated. Please use `name` instead.\n"
     ]
    },
    {
     "name": "stdout",
     "output_type": "stream",
     "text": [
      "Test Loss: 0.0768, Test Accuracy: 0.9790\n",
      "Model saved to ModelB.pth\n"
     ]
    },
    {
     "name": "stderr",
     "output_type": "stream",
     "text": [
      "2025/06/30 00:50:39 WARNING mlflow.models.model: Model logged without a signature and input example. Please set `input_example` parameter when logging the model to auto infer the model signature.\n"
     ]
    },
    {
     "name": "stdout",
     "output_type": "stream",
     "text": [
      "\n",
      "--- Training ModelB | lr: 0.001, epochs: 5 ---\n",
      "Epoch 1: Loss = 0.1325, Accuracy = 0.9609\n",
      "Epoch 2: Loss = 0.0451, Accuracy = 0.9859\n",
      "Epoch 3: Loss = 0.0303, Accuracy = 0.9903\n",
      "Epoch 4: Loss = 0.0222, Accuracy = 0.9929\n",
      "Epoch 5: Loss = 0.0162, Accuracy = 0.9947\n"
     ]
    },
    {
     "name": "stderr",
     "output_type": "stream",
     "text": [
      "2025/06/30 00:52:06 WARNING mlflow.models.model: `artifact_path` is deprecated. Please use `name` instead.\n"
     ]
    },
    {
     "name": "stdout",
     "output_type": "stream",
     "text": [
      "Test Loss: 0.0396, Test Accuracy: 0.9886\n",
      "Model saved to ModelB.pth\n"
     ]
    },
    {
     "name": "stderr",
     "output_type": "stream",
     "text": [
      "2025/06/30 00:52:23 WARNING mlflow.models.model: Model logged without a signature and input example. Please set `input_example` parameter when logging the model to auto infer the model signature.\n"
     ]
    },
    {
     "name": "stdout",
     "output_type": "stream",
     "text": [
      "\n",
      "--- Training ModelB | lr: 0.001, epochs: 10 ---\n",
      "Epoch 1: Loss = 0.1317, Accuracy = 0.9601\n",
      "Epoch 2: Loss = 0.0436, Accuracy = 0.9865\n",
      "Epoch 3: Loss = 0.0299, Accuracy = 0.9907\n",
      "Epoch 4: Loss = 0.0206, Accuracy = 0.9932\n",
      "Epoch 5: Loss = 0.0150, Accuracy = 0.9952\n",
      "Epoch 6: Loss = 0.0124, Accuracy = 0.9958\n",
      "Epoch 7: Loss = 0.0094, Accuracy = 0.9967\n",
      "Epoch 8: Loss = 0.0068, Accuracy = 0.9978\n",
      "Epoch 9: Loss = 0.0074, Accuracy = 0.9975\n",
      "Epoch 10: Loss = 0.0048, Accuracy = 0.9986\n"
     ]
    },
    {
     "name": "stderr",
     "output_type": "stream",
     "text": [
      "2025/06/30 00:54:47 WARNING mlflow.models.model: `artifact_path` is deprecated. Please use `name` instead.\n"
     ]
    },
    {
     "name": "stdout",
     "output_type": "stream",
     "text": [
      "Test Loss: 0.0517, Test Accuracy: 0.9875\n",
      "Model saved to ModelB.pth\n"
     ]
    },
    {
     "name": "stderr",
     "output_type": "stream",
     "text": [
      "2025/06/30 00:54:52 WARNING mlflow.models.model: Model logged without a signature and input example. Please set `input_example` parameter when logging the model to auto infer the model signature.\n"
     ]
    },
    {
     "name": "stdout",
     "output_type": "stream",
     "text": [
      "\n",
      "--- Training ModelC | lr: 0.01, epochs: 5 ---\n",
      "Epoch 1: Loss = 0.2874, Accuracy = 0.9117\n",
      "Epoch 2: Loss = 0.1535, Accuracy = 0.9529\n",
      "Epoch 3: Loss = 0.1384, Accuracy = 0.9577\n",
      "Epoch 4: Loss = 0.1295, Accuracy = 0.9615\n",
      "Epoch 5: Loss = 0.1257, Accuracy = 0.9622\n"
     ]
    },
    {
     "name": "stderr",
     "output_type": "stream",
     "text": [
      "2025/06/30 00:56:08 WARNING mlflow.models.model: `artifact_path` is deprecated. Please use `name` instead.\n"
     ]
    },
    {
     "name": "stdout",
     "output_type": "stream",
     "text": [
      "Test Loss: 0.0633, Test Accuracy: 0.9800\n",
      "Model saved to ModelC.pth\n"
     ]
    },
    {
     "name": "stderr",
     "output_type": "stream",
     "text": [
      "2025/06/30 00:56:13 WARNING mlflow.models.model: Model logged without a signature and input example. Please set `input_example` parameter when logging the model to auto infer the model signature.\n"
     ]
    },
    {
     "name": "stdout",
     "output_type": "stream",
     "text": [
      "\n",
      "--- Training ModelC | lr: 0.01, epochs: 10 ---\n",
      "Epoch 1: Loss = 0.3388, Accuracy = 0.8911\n",
      "Epoch 2: Loss = 0.1384, Accuracy = 0.9573\n",
      "Epoch 3: Loss = 0.1209, Accuracy = 0.9635\n",
      "Epoch 4: Loss = 0.1156, Accuracy = 0.9658\n",
      "Epoch 5: Loss = 0.1110, Accuracy = 0.9670\n",
      "Epoch 6: Loss = 0.1051, Accuracy = 0.9697\n",
      "Epoch 7: Loss = 0.1056, Accuracy = 0.9700\n",
      "Epoch 8: Loss = 0.1007, Accuracy = 0.9707\n",
      "Epoch 9: Loss = 0.1012, Accuracy = 0.9709\n",
      "Epoch 10: Loss = 0.0995, Accuracy = 0.9717\n"
     ]
    },
    {
     "name": "stderr",
     "output_type": "stream",
     "text": [
      "2025/06/30 00:58:39 WARNING mlflow.models.model: `artifact_path` is deprecated. Please use `name` instead.\n"
     ]
    },
    {
     "name": "stdout",
     "output_type": "stream",
     "text": [
      "Test Loss: 0.0567, Test Accuracy: 0.9843\n",
      "Model saved to ModelC.pth\n"
     ]
    },
    {
     "name": "stderr",
     "output_type": "stream",
     "text": [
      "2025/06/30 00:58:45 WARNING mlflow.models.model: Model logged without a signature and input example. Please set `input_example` parameter when logging the model to auto infer the model signature.\n"
     ]
    },
    {
     "name": "stdout",
     "output_type": "stream",
     "text": [
      "\n",
      "--- Training ModelC | lr: 0.001, epochs: 5 ---\n",
      "Epoch 1: Loss = 0.1583, Accuracy = 0.9530\n",
      "Epoch 2: Loss = 0.0516, Accuracy = 0.9841\n",
      "Epoch 3: Loss = 0.0388, Accuracy = 0.9868\n",
      "Epoch 4: Loss = 0.0304, Accuracy = 0.9906\n",
      "Epoch 5: Loss = 0.0238, Accuracy = 0.9922\n"
     ]
    },
    {
     "name": "stderr",
     "output_type": "stream",
     "text": [
      "2025/06/30 01:00:09 WARNING mlflow.models.model: `artifact_path` is deprecated. Please use `name` instead.\n"
     ]
    },
    {
     "name": "stdout",
     "output_type": "stream",
     "text": [
      "Test Loss: 0.0276, Test Accuracy: 0.9915\n",
      "Model saved to ModelC.pth\n"
     ]
    },
    {
     "name": "stderr",
     "output_type": "stream",
     "text": [
      "2025/06/30 01:00:14 WARNING mlflow.models.model: Model logged without a signature and input example. Please set `input_example` parameter when logging the model to auto infer the model signature.\n"
     ]
    },
    {
     "name": "stdout",
     "output_type": "stream",
     "text": [
      "\n",
      "--- Training ModelC | lr: 0.001, epochs: 10 ---\n",
      "Epoch 1: Loss = 0.1530, Accuracy = 0.9537\n",
      "Epoch 2: Loss = 0.0502, Accuracy = 0.9843\n",
      "Epoch 3: Loss = 0.0381, Accuracy = 0.9879\n",
      "Epoch 4: Loss = 0.0294, Accuracy = 0.9905\n",
      "Epoch 5: Loss = 0.0238, Accuracy = 0.9926\n",
      "Epoch 6: Loss = 0.0195, Accuracy = 0.9934\n",
      "Epoch 7: Loss = 0.0180, Accuracy = 0.9941\n",
      "Epoch 8: Loss = 0.0154, Accuracy = 0.9951\n",
      "Epoch 9: Loss = 0.0131, Accuracy = 0.9956\n",
      "Epoch 10: Loss = 0.0134, Accuracy = 0.9952\n"
     ]
    },
    {
     "name": "stderr",
     "output_type": "stream",
     "text": [
      "2025/06/30 01:02:52 WARNING mlflow.models.model: `artifact_path` is deprecated. Please use `name` instead.\n"
     ]
    },
    {
     "name": "stdout",
     "output_type": "stream",
     "text": [
      "Test Loss: 0.0276, Test Accuracy: 0.9920\n",
      "Model saved to ModelC.pth\n"
     ]
    },
    {
     "name": "stderr",
     "output_type": "stream",
     "text": [
      "2025/06/30 01:02:57 WARNING mlflow.models.model: Model logged without a signature and input example. Please set `input_example` parameter when logging the model to auto infer the model signature.\n"
     ]
    }
   ],
   "source": [
    "learning_rates = [0.01, 0.001]\n",
    "epochs_list = [5, 10]\n",
    "model_classes = [ModelA, ModelB, ModelC]\n",
    "\n",
    "param_combinations = list(itertools.product(model_classes, learning_rates, epochs_list))\n",
    "criterion = nn.CrossEntropyLoss()\n",
    "\n",
    "for model_class, lr, epochs in param_combinations:\n",
    "    print(f\"\\n--- Training {model_class.__name__} | lr: {lr}, epochs: {epochs} ---\")\n",
    "    model = model_class()\n",
    "\n",
    "    with mlflow.start_run(run_name=f\"{model_class.__name__}_run\"):\n",
    "        mlflow.log_param(\"model_name\", model_class.__name__)\n",
    "        mlflow.log_param(\"learning_rate\", lr)\n",
    "        mlflow.log_param(\"epochs\", epochs)\n",
    "\n",
    "        model = train_model(model, train_loader, epochs, lr)\n",
    "        test_loss, test_acc = evaluate_model(model, test_loader, criterion)\n",
    "\n",
    "        mlflow.log_metric(\"test_loss\", test_loss)\n",
    "        mlflow.log_metric(\"test_accuracy\", test_acc)\n",
    "\n",
    "        # Save local checkpoint\n",
    "        model_path = f\"{model_class.__name__}.pth\"\n",
    "        torch.save(model.state_dict(), model_path)\n",
    "        print(f\"Model saved to {model_path}\")\n",
    "\n",
    "        # Log model to MLflow\n",
    "        mlflow.pytorch.log_model(model, artifact_path=\"model\")"
   ]
  },
  {
   "cell_type": "code",
   "execution_count": null,
   "metadata": {},
   "outputs": [],
   "source": []
  }
 ],
 "metadata": {
  "kernelspec": {
   "display_name": "v12",
   "language": "python",
   "name": "python3"
  },
  "language_info": {
   "codemirror_mode": {
    "name": "ipython",
    "version": 3
   },
   "file_extension": ".py",
   "mimetype": "text/x-python",
   "name": "python",
   "nbconvert_exporter": "python",
   "pygments_lexer": "ipython3",
   "version": "3.12.11"
  }
 },
 "nbformat": 4,
 "nbformat_minor": 2
}
